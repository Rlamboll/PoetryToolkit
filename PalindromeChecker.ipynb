{
 "cells": [
  {
   "cell_type": "markdown",
   "metadata": {},
   "source": [
    "# Check if a file is a true palindrome by line (not by letter)\n",
    "Write the file location of your txt file in the \"file\" line below then run it all through and any inperfections will be revealed at the end of the code! "
   ]
  },
  {
   "cell_type": "code",
   "execution_count": 1,
   "metadata": {},
   "outputs": [],
   "source": [
    "file = \"./ImmortalJellyfishv2.txt\""
   ]
  },
  {
   "cell_type": "code",
   "execution_count": 2,
   "metadata": {},
   "outputs": [],
   "source": [
    "import re\n",
    "fileobj = open(file)\n",
    "filterfile = fileobj.read()\n",
    "filterfileplain = re.sub(r'[^\\w\\s]','', filterfile)\n",
    "lines = filterfileplain.split('\\n')\n",
    "lines = [line.rstrip().lower() for line in lines if re.search(r'[^\\n|^\\s+\\n]', line)]\n",
    "wrong = []\n",
    "for i in range(len(lines)):\n",
    "    if lines[i] != lines[-i-1]: \n",
    "        wrong.append(lines[i])"
   ]
  },
  {
   "cell_type": "code",
   "execution_count": 3,
   "metadata": {},
   "outputs": [
    {
     "name": "stdout",
     "output_type": "stream",
     "text": [
      "This is a true palindrome!\n"
     ]
    }
   ],
   "source": [
    "if wrong:\n",
    "    print(\"Wrong lines: \")\n",
    "    print(wrong)\n",
    "else: \n",
    "    print(\"This is a true palindrome!\")"
   ]
  }
 ],
 "metadata": {
  "kernelspec": {
   "display_name": "Python 3",
   "language": "python",
   "name": "python3"
  },
  "language_info": {
   "codemirror_mode": {
    "name": "ipython",
    "version": 3
   },
   "file_extension": ".py",
   "mimetype": "text/x-python",
   "name": "python",
   "nbconvert_exporter": "python",
   "pygments_lexer": "ipython3",
   "version": "3.7.3"
  }
 },
 "nbformat": 4,
 "nbformat_minor": 4
}
